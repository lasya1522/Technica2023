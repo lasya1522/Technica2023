import pandas as pd

df = pd.read_csv("crime_data.csv")
