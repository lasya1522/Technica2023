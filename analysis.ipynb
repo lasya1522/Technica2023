{
 "cells": [
  {
   "cell_type": "code",
   "execution_count": 1,
   "metadata": {},
   "outputs": [],
   "source": [
    "import pandas as pd"
   ]
  },
  {
   "cell_type": "code",
   "execution_count": 113,
   "metadata": {},
   "outputs": [],
   "source": [
    "df = pd.read_csv('crime_data.csv')\n",
    "df.drop(columns=[\"Unnamed: 0\"], inplace=True)\n",
    "df = df.replace(to_replace=r\"AM\", value=\"\", regex=True)\n",
    "df = df.replace(to_replace=r\"PM\", value=\"\", regex=True)"
   ]
  },
  {
   "cell_type": "code",
   "execution_count": 120,
   "metadata": {},
   "outputs": [],
   "source": [
    "df = df[df[\"Time_of_Incident\"].str.contains(\"Unknown\") == False]"
   ]
  },
  {
   "cell_type": "code",
   "execution_count": 121,
   "metadata": {},
   "outputs": [
    {
     "data": {
      "text/plain": [
       "50     2/28/2016 16:00\n",
       "52       3/1/2016 0:00\n",
       "53       3/2/2016 1:00\n",
       "54       3/4/2016 0:30\n",
       "55       3/4/2016 2:15\n",
       "            ...       \n",
       "203     9/19/2016 2:20\n",
       "204     9/20/2016 0:00\n",
       "205    9/20/2016 22:30\n",
       "206    9/21/2016 16:30\n",
       "207    9/21/2016 23:00\n",
       "Name: Time_of_Incident, Length: 150, dtype: object"
      ]
     },
     "execution_count": 121,
     "metadata": {},
     "output_type": "execute_result"
    }
   ],
   "source": [
    "df[\"Time_of_Incident\"][50:200]"
   ]
  },
  {
   "cell_type": "code",
   "execution_count": 3,
   "metadata": {},
   "outputs": [
    {
     "data": {
      "text/html": [
       "<div>\n",
       "<style scoped>\n",
       "    .dataframe tbody tr th:only-of-type {\n",
       "        vertical-align: middle;\n",
       "    }\n",
       "\n",
       "    .dataframe tbody tr th {\n",
       "        vertical-align: top;\n",
       "    }\n",
       "\n",
       "    .dataframe thead th {\n",
       "        text-align: right;\n",
       "    }\n",
       "</style>\n",
       "<table border=\"1\" class=\"dataframe\">\n",
       "  <thead>\n",
       "    <tr style=\"text-align: right;\">\n",
       "      <th></th>\n",
       "      <th>Unnamed: 0</th>\n",
       "      <th>Time_of_Incident</th>\n",
       "      <th>Time_of_report</th>\n",
       "      <th>Incident</th>\n",
       "      <th>Location</th>\n",
       "    </tr>\n",
       "  </thead>\n",
       "  <tbody>\n",
       "    <tr>\n",
       "      <th>0</th>\n",
       "      <td>0</td>\n",
       "      <td>1/8/2016 7:00</td>\n",
       "      <td>12/20/2016</td>\n",
       "      <td>Sex Offense</td>\n",
       "      <td>7100 Blk Preinkert Drive</td>\n",
       "    </tr>\n",
       "    <tr>\n",
       "      <th>1</th>\n",
       "      <td>1</td>\n",
       "      <td>1/21/2016 4:00</td>\n",
       "      <td>3/3/2017</td>\n",
       "      <td>Vandalism</td>\n",
       "      <td>South Campus Commons</td>\n",
       "    </tr>\n",
       "    <tr>\n",
       "      <th>2</th>\n",
       "      <td>2</td>\n",
       "      <td>1/22/2016 18:00</td>\n",
       "      <td>3/3/2017</td>\n",
       "      <td>Alcohol Violation</td>\n",
       "      <td>Wicomico Hall</td>\n",
       "    </tr>\n",
       "    <tr>\n",
       "      <th>3</th>\n",
       "      <td>3</td>\n",
       "      <td>1/22/2016 20:54</td>\n",
       "      <td>3/3/2017</td>\n",
       "      <td>Alcohol Violation</td>\n",
       "      <td>Easton Hall</td>\n",
       "    </tr>\n",
       "    <tr>\n",
       "      <th>4</th>\n",
       "      <td>4</td>\n",
       "      <td>1/22/2016 21:00</td>\n",
       "      <td>3/3/2017</td>\n",
       "      <td>Alcohol Violation</td>\n",
       "      <td>Ellicott Hall</td>\n",
       "    </tr>\n",
       "    <tr>\n",
       "      <th>...</th>\n",
       "      <td>...</td>\n",
       "      <td>...</td>\n",
       "      <td>...</td>\n",
       "      <td>...</td>\n",
       "      <td>...</td>\n",
       "    </tr>\n",
       "    <tr>\n",
       "      <th>1967</th>\n",
       "      <td>1967</td>\n",
       "      <td>9/29/2023 18:00</td>\n",
       "      <td>10/12/2023</td>\n",
       "      <td>Theft From Auto</td>\n",
       "      <td>4200 Blk Knox Road</td>\n",
       "    </tr>\n",
       "    <tr>\n",
       "      <th>1968</th>\n",
       "      <td>1968</td>\n",
       "      <td>10/1/2023 12:00</td>\n",
       "      <td>10/12/2023</td>\n",
       "      <td>Theft From Auto</td>\n",
       "      <td>4300 Blk Calvert Road</td>\n",
       "    </tr>\n",
       "    <tr>\n",
       "      <th>1969</th>\n",
       "      <td>1969</td>\n",
       "      <td>10/6/2023 5:37</td>\n",
       "      <td>10/12/2023</td>\n",
       "      <td>Theft From Auto</td>\n",
       "      <td>9000 Blk Baltimore Avenue</td>\n",
       "    </tr>\n",
       "    <tr>\n",
       "      <th>1970</th>\n",
       "      <td>1970</td>\n",
       "      <td>10/6/2023 23:00</td>\n",
       "      <td>10/12/2023</td>\n",
       "      <td>Theft From Auto</td>\n",
       "      <td>4300 Blk Hartwick Road</td>\n",
       "    </tr>\n",
       "    <tr>\n",
       "      <th>1971</th>\n",
       "      <td>1971</td>\n",
       "      <td>10/10/2023 23:30</td>\n",
       "      <td>10/12/2023</td>\n",
       "      <td>Assault (No Weapon)</td>\n",
       "      <td>4300 Blk Knox Road</td>\n",
       "    </tr>\n",
       "  </tbody>\n",
       "</table>\n",
       "<p>1972 rows × 5 columns</p>\n",
       "</div>"
      ],
      "text/plain": [
       "      Unnamed: 0  Time_of_Incident Time_of_report             Incident  \\\n",
       "0              0     1/8/2016 7:00     12/20/2016          Sex Offense   \n",
       "1              1    1/21/2016 4:00       3/3/2017            Vandalism   \n",
       "2              2   1/22/2016 18:00       3/3/2017    Alcohol Violation   \n",
       "3              3   1/22/2016 20:54       3/3/2017    Alcohol Violation   \n",
       "4              4   1/22/2016 21:00       3/3/2017    Alcohol Violation   \n",
       "...          ...               ...            ...                  ...   \n",
       "1967        1967   9/29/2023 18:00     10/12/2023      Theft From Auto   \n",
       "1968        1968   10/1/2023 12:00     10/12/2023      Theft From Auto   \n",
       "1969        1969    10/6/2023 5:37     10/12/2023      Theft From Auto   \n",
       "1970        1970   10/6/2023 23:00     10/12/2023      Theft From Auto   \n",
       "1971        1971  10/10/2023 23:30     10/12/2023  Assault (No Weapon)   \n",
       "\n",
       "                       Location  \n",
       "0      7100 Blk Preinkert Drive  \n",
       "1          South Campus Commons  \n",
       "2                 Wicomico Hall  \n",
       "3                   Easton Hall  \n",
       "4                 Ellicott Hall  \n",
       "...                         ...  \n",
       "1967         4200 Blk Knox Road  \n",
       "1968      4300 Blk Calvert Road  \n",
       "1969  9000 Blk Baltimore Avenue  \n",
       "1970     4300 Blk Hartwick Road  \n",
       "1971         4300 Blk Knox Road  \n",
       "\n",
       "[1972 rows x 5 columns]"
      ]
     },
     "execution_count": 3,
     "metadata": {},
     "output_type": "execute_result"
    }
   ],
   "source": [
    "df"
   ]
  }
 ],
 "metadata": {
  "kernelspec": {
   "display_name": "venv",
   "language": "python",
   "name": "python3"
  },
  "language_info": {
   "codemirror_mode": {
    "name": "ipython",
    "version": 3
   },
   "file_extension": ".py",
   "mimetype": "text/x-python",
   "name": "python",
   "nbconvert_exporter": "python",
   "pygments_lexer": "ipython3",
   "version": "3.11.6"
  }
 },
 "nbformat": 4,
 "nbformat_minor": 2
}
